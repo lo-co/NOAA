{
 "cells": [
  {
   "cell_type": "markdown",
   "metadata": {},
   "source": [
    "# CRD Extinction Calculations"
   ]
  },
  {
   "cell_type": "markdown",
   "metadata": {},
   "source": [
    "The following discussion and code demonstrates how the data acquisition software calculates various values that are part of the data output.  This discussion includes some Python code that can be used to process this code.  Calculations are demonstrated using data recovered from the open path cavity ringdown during the FRAPE campaign.   "
   ]
  },
  {
   "cell_type": "code",
   "execution_count": 36,
   "metadata": {
    "collapsed": true
   },
   "outputs": [],
   "source": [
    "from IPython.display import HTML\n",
    "import matplotlib.pyplot as plt\n",
    "import matplotlib\n",
    "from math import *\n",
    "import numpy as np\n",
    "import pandas as pd\n",
    "%matplotlib inline"
   ]
  },
  {
   "cell_type": "code",
   "execution_count": 37,
   "metadata": {
    "collapsed": true
   },
   "outputs": [],
   "source": [
    "# Define some constants for use in the equations below\n",
    "A = 6.0225e23 # Angstrom exponent\n",
    "R = 8.31447 # Ideal gas constant\n",
    "c = 2.99792e8 # Speed of light in m/s"
   ]
  },
  {
   "cell_type": "markdown",
   "metadata": {},
   "source": [
    "# Calculating the Refactive Index"
   ]
  },
  {
   "cell_type": "markdown",
   "metadata": {},
   "source": [
    "The refractive index of gas is dependent only on the wavelength of the light 𝜆 and is calculated based on <a href='http://www.opticsinfobase.org/ao/abstract.cfm?uri=ao-34-15-2765'>Bucholtz (1995)</a>. With the wavelength in nm, the refractive index may be calculated as \n",
    "\\begin{equation}\n",
    "n = \\left(\\frac{5791817}{238.0185-\\left(\\frac{1000}{\\lambda}\\right)^2}+\\frac{167909}{57.362-\\left(\\frac{1000}{\\lambda}\\right)^2}\\right)\\times{10}^{-8}+1\n",
    "\\end{equation}"
   ]
  },
  {
   "cell_type": "code",
   "execution_count": 38,
   "metadata": {
    "collapsed": true
   },
   "outputs": [],
   "source": [
    "'''\n",
    "The following defines the function for returning the refractive index of air.  Here, the wavelength is in nm.\n",
    "'''\n",
    "def ref_index(l):\n",
    "    if l > 230:\n",
    "        return (5791817/(238.0185-(1000/l)**2)+167909/(57.362-(1000/l)**2))*10**-8+1\n",
    "    else:\n",
    "        return (2480990/(132.274-(1000/l)**2)+17455.7/(39.32957-(1000/l)**2)+8060.51)*10**-8+1"
   ]
  },
  {
   "cell_type": "code",
   "execution_count": 39,
   "metadata": {
    "collapsed": true
   },
   "outputs": [],
   "source": [
    "y = []\n",
    "for i in range(400,700):\n",
    "    y.append(ref_index(float(i)))\n",
    "    \n",
    "x = list(range(400,700))"
   ]
  },
  {
   "cell_type": "code",
   "execution_count": 40,
   "metadata": {
    "collapsed": false
   },
   "outputs": [
    {
     "data": {
      "text/plain": [
       "[<matplotlib.lines.Line2D at 0x7b8f320>]"
      ]
     },
     "execution_count": 40,
     "metadata": {},
     "output_type": "execute_result"
    },
    {
     "data": {
      "image/png": "[encoded data removed]",
      "text/plain": [
       "<matplotlib.figure.Figure at 0x806c940>"
      ]
     },
     "metadata": {},
     "output_type": "display_data"
    }
   ],
   "source": [
    "# This plots refractive index from 400 to 700 nm\n",
    "fig = plt.figure()\n",
    "ax = plt.axes()\n",
    "plt.ylabel('n')\n",
    "plt.xlabel(r'$\\lambda$ (nm)')\n",
    "plt.title('Refractive index of air from Buckholtz 1995')\n",
    "ax.yaxis.set_major_formatter(matplotlib.ticker.ScalarFormatter(useOffset=False))\n",
    "plt.plot(x, y)"
   ]
  },
  {
   "cell_type": "markdown",
   "metadata": {},
   "source": [
    "## Scattering Coefficient"
   ]
  },
  {
   "cell_type": "markdown",
   "metadata": {},
   "source": [
    "From <a href='http://www.opticsinfobase.org/ao/abstract.cfm?uri=ao-34-15-2765'>Bucholtz (1995)</a>, the scattering cross section $\\sigma_{air}$ is calculated as \n",
    "\\begin{equation}\n",
    "\\sigma_{air}=\\frac{24\\pi^3\\left(n^2-1\\right)^2}{\\lambda^4M_{ref}^2\\left(n^2+2\\right)^2}f\\left(\\delta\\right)\n",
    "\\end{equation}\n",
    "where $n$ is the real portion of the refractive index as calculated above and $f(\\delta)$ is the factor that accounts for the anisotropy of air and may be approximated as 1.06."
   ]
  },
  {
   "cell_type": "code",
   "execution_count": 41,
   "metadata": {
    "collapsed": true
   },
   "outputs": [],
   "source": [
    "# Calculate the scattering coefficient\n",
    "Mref = 2.50362e25\n",
    "\n",
    "def cext(l):\n",
    "    \"\"\"\n",
    "    Calculate the scattering cross section of air as a function of ambient conditions and the wavelength of light\n",
    "    :l: wavelength of light in nm\n",
    "    \"\"\"\n",
    "    l = float(l)\n",
    "    return 24.*pi**3*((ref_index(l)**2-1.)/(ref_index(l)+2.))**2/((l/1.e7)**4*(Mref/1e6)**2)*1.06"
   ]
  },
  {
   "cell_type": "code",
   "execution_count": 42,
   "metadata": {
    "collapsed": true
   },
   "outputs": [],
   "source": [
    "z = [cext(i) for i in range(400,700)]\n",
    "    \n",
    "x = list(range(400,700))"
   ]
  },
  {
   "cell_type": "code",
   "execution_count": 43,
   "metadata": {
    "collapsed": false
   },
   "outputs": [
    {
     "data": {
      "text/plain": [
       "[<matplotlib.lines.Line2D at 0x7b7f4e0>]"
      ]
     },
     "execution_count": 43,
     "metadata": {},
     "output_type": "execute_result"
    },
    {
     "data": {
      "image/png": "[encoded data removed]",
      "text/plain": [
       "<matplotlib.figure.Figure at 0x7a4b278>"
      ]
     },
     "metadata": {},
     "output_type": "display_data"
    }
   ],
   "source": [
    "fig = plt.figure()\n",
    "ax = plt.axes()\n",
    "plt.ylabel(r'$C_{ext}$ (cm$^2$)')\n",
    "plt.xlabel(r'$\\lambda$ (nm)')\n",
    "plt.title('Scattering Cross Section of Air')\n",
    "ax.yaxis.set_major_formatter(matplotlib.ticker.ScalarFormatter(useOffset=False))\n",
    "plt.plot(x, z)"
   ]
  },
  {
   "cell_type": "markdown",
   "metadata": {},
   "source": [
    "## Accounting for Rayleigh Scattering"
   ]
  },
  {
   "cell_type": "markdown",
   "metadata": {},
   "source": [
    "Now for the final demonstration, we want to demonstrate the correction of $\\tau$ for Rayleigh and the resulting extinction calculations.  $\\tau$ may be corrected using the following equation:\n",
    "\\begin{equation}\n",
    "\\tau' = [\\frac{1}{\\tau}-\\sigma_{air}c(M-M_{ref})]\n",
    "\\end{equation}\n",
    "Here, $M$ is a the molecular density and is a function of the ambient temperature $T$ and pressure $P$.  The molecular density can be solved for using the ideal gas equation:\n",
    "\\begin{equation}\n",
    "M=\\frac{p\\unicode{x212B}}{RT}\n",
    "\\end{equation}\n",
    "where $R$ is the ideal gas constant of 8.31447 J/(mol K) and $\\unicode{x212B}$ is the angstrom exponent ($6.0225\\times10^{23}$ molecules per mole)."
   ]
  },
  {
   "cell_type": "code",
   "execution_count": 44,
   "metadata": {
    "collapsed": true
   },
   "outputs": [],
   "source": [
    "def mol_den(P,T):\n",
    "    \"\"\"\n",
    "    :P: pressure in mb\n",
    "    :T: temperature in deg C\n",
    "    \"\"\"\n",
    "    # Convert from mb to Pa\n",
    "    P = P*100\n",
    "    # Convert to Kelvin\n",
    "    T = T + 273.15\n",
    "    return P*A/(R*T)"
   ]
  },
  {
   "cell_type": "code",
   "execution_count": 45,
   "metadata": {
    "collapsed": true
   },
   "outputs": [],
   "source": [
    "def tau_corr(tau, l, T, P):\n",
    "    \"\"\"\n",
    "    Correct tau for Rayleigh scattering.\n",
    "    tau: Ringdown time constant\n",
    "    l: wavelength in nm\n",
    "    T: temperature in deg C\n",
    "    P: pressure in mb\n",
    "    \"\"\"\n",
    "    return 1/(1/tau -cext(l)/100**2*(mol_den(P,T) - Mref)*c)"
   ]
  },
  {
   "cell_type": "code",
   "execution_count": 46,
   "metadata": {
    "collapsed": true
   },
   "outputs": [],
   "source": [
    "def ext(tau,tau0,L):\n",
    "    \"\"\"\n",
    "    Calculate extinction.\n",
    "    :tau: current ringdown time constant in seconds\n",
    "    :tau0: filtered ringdown time constant in seconds\n",
    "    :L: optical time constant in meters\n",
    "    \"\"\"\n",
    "    return (1/tau - 1/tau0)*L/c"
   ]
  },
  {
   "cell_type": "code",
   "execution_count": 47,
   "metadata": {
    "collapsed": false
   },
   "outputs": [
    {
     "name": "stdout",
     "output_type": "stream",
     "text": [
      "0.11216825937399315\n"
     ]
    }
   ],
   "source": [
    "print(mol_den(840,20)*cext(532));"
   ]
  },
  {
   "cell_type": "markdown",
   "metadata": {},
   "source": [
    "Now we will demonstrate how to use the above functions with data from acquired from the data acquisition system.  First, we retrieve data from the file using the <a href='http://pandas.pydata.org/'>pandas</a> library."
   ]
  },
  {
   "cell_type": "code",
   "execution_count": 48,
   "metadata": {
    "collapsed": false
   },
   "outputs": [
    {
     "ename": "SyntaxError",
     "evalue": "(unicode error) 'unicodeescape' codec can't decode bytes in position 2-3: truncated \\UXXXXXXXX escape (<ipython-input-48-2d48519056a0>, line 2)",
     "output_type": "error",
     "traceback": [
      "\u001b[1;36m  File \u001b[1;32m\"<ipython-input-48-2d48519056a0>\"\u001b[1;36m, line \u001b[1;32m2\u001b[0m\n\u001b[1;33m    fData = \"C:\\Users\\mrichardson\\Desktop\\Tim_20140731_140955.txt\"\u001b[0m\n\u001b[1;37m           ^\u001b[0m\n\u001b[1;31mSyntaxError\u001b[0m\u001b[1;31m:\u001b[0m (unicode error) 'unicodeescape' codec can't decode bytes in position 2-3: truncated \\UXXXXXXXX escape\n"
     ]
    }
   ],
   "source": [
    "# Get some data\n",
    "fData = \"C:\\Users\\mrichardson\\Desktop\\Tim_20140731_140955.txt\"\n",
    "# Read in data via Pandas (creates a Pandas object)\n",
    "df = pd.read_csv(fData, delimiter = '\\t')"
   ]
  },
  {
   "cell_type": "markdown",
   "metadata": {},
   "source": [
    "Next, generate a series of plots comparing calculated values with those recovered from the field"
   ]
  },
  {
   "cell_type": "code",
   "execution_count": null,
   "metadata": {
    "collapsed": true
   },
   "outputs": [],
   "source": [
    "fig1 = plt.figure(1)\n",
    "plt.subplot(221)\n",
    "# Optical length of cavity\n",
    "Rl = 1\n",
    "# Time stamp is in hours\n",
    "time = (df.time_stamp-df.time_stamp[0])/3600\n",
    "# Calculate extinction\n",
    "ext_calc = ext(df.tau*1e-6,df.tau_0*1e-6, Rl)\n",
    "plt.plot(time, df.ext, 'r-',time, ext_calc*1e6,'b-')\n",
    "plt.ylim(0,40)\n",
    "plt.ylabel(r'$\\sigma$ (Mm$^-1$)')\n",
    "\n",
    "plt.subplot(222)\n",
    "plt.plot(time,df.tau_corr,'r-',time,tau_corr(df.tau*1e-6,670.0,df.T_vaisala,df.pressure)*1e6,'b-')\n",
    "plt.ylabel(r'$\\tau_{corr}$ ($\\mu$s)')\n",
    "\n",
    "plt.subplot(224)\n",
    "plt.plot(time,df.tau_0_corr,'r-',time,tau_corr(df.tau_0*1e-6,670.0,df.T_vaisala,df.pressure)*1e6,'b-')\n",
    "plt.ylabel(r'$\\tau_{0,corr}$ ($\\mu$s)')\n",
    "\n",
    "plt.subplot(223)\n",
    "# Extinction from corrected values in file\n",
    "plt.ylabel(r'$\\sigma_{corr}$ (Mm$^{-1}$)')\n",
    "plt.plot(time,df.ext_corr*1e6,'r-',time,ext(tau_corr(df.tau*1e-6,670,df.T_vaisala,df.pressure), \\\n",
    "                                            tau_corr(df.tau_0*1e-6,670.0,df.T_vaisala,df.pressure), 1),'b-')"
   ]
  },
  {
   "cell_type": "code",
   "execution_count": null,
   "metadata": {
    "collapsed": true
   },
   "outputs": [],
   "source": []
  }
 ],
 "metadata": {
  "kernelspec": {
   "display_name": "Python 3",
   "language": "python",
   "name": "python3"
  },
  "language_info": {
   "codemirror_mode": {
    "name": "ipython",
    "version": 3
   },
   "file_extension": ".py",
   "mimetype": "text/x-python",
   "name": "python",
   "nbconvert_exporter": "python",
   "pygments_lexer": "ipython3",
   "version": "3.4.1"
  }
 },
 "nbformat": 4,
 "nbformat_minor": 0
}
