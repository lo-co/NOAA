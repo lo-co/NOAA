{
 "metadata": {
  "name": "",
  "signature": "sha256:9245569d9fcf6d3293eb8ef14e7631a3ffff4d2f2dd99264e1899acf91fe9bd2"
 },
 "nbformat": 3,
 "nbformat_minor": 0,
 "worksheets": [
  {
   "cells": [
    {
     "cell_type": "heading",
     "level": 1,
     "metadata": {},
     "source": [
      "Using PySerial to Get Data from a Serial Port"
     ]
    },
    {
     "cell_type": "markdown",
     "metadata": {},
     "source": [
      "The following demonstrates how to use the package PySerial to obtain data from a serial port using Python.  I am currently using the followign parameters\n",
      "\n",
      "* 19200\n",
      "* 8-N-1\n",
      "* COM5\n",
      "\n",
      "The port is provided via a USB-232 device on my laptop."
     ]
    },
    {
     "cell_type": "code",
     "collapsed": false,
     "input": [
      "import serial\n",
      "import sys\n",
      "import time\n",
      "\n",
      "# We will comunicate on port 5 (the index is zero based so it will be port 4)\n",
      "ser = serial.Serial()\n",
      "ser.port = 4\n",
      "ser.baudrate = 19200\n",
      "# Timeout is in seconds\n",
      "ser.timeout = 1\n",
      "ser"
     ],
     "language": "python",
     "metadata": {},
     "outputs": [
      {
       "metadata": {},
       "output_type": "pyout",
       "prompt_number": 1,
       "text": [
        "Serial<id=0x3f4bf98, open=False>(port='COM5', baudrate=19200, bytesize=8, parity='N', stopbits=1, timeout=1, xonxoff=False, rtscts=False, dsrdtr=False)"
       ]
      }
     ],
     "prompt_number": 1
    },
    {
     "cell_type": "markdown",
     "metadata": {},
     "source": [
      "From the above output, we can see that the port is COM5 and the parameters are as we set them.  Now we will open the port."
     ]
    },
    {
     "cell_type": "code",
     "collapsed": false,
     "input": [
      "ser.open()\n",
      "ser"
     ],
     "language": "python",
     "metadata": {},
     "outputs": [
      {
       "metadata": {},
       "output_type": "pyout",
       "prompt_number": 2,
       "text": [
        "Serial<id=0x3f4bf98, open=True>(port='COM5', baudrate=19200, bytesize=8, parity='N', stopbits=1, timeout=1, xonxoff=False, rtscts=False, dsrdtr=False)"
       ]
      }
     ],
     "prompt_number": 2
    },
    {
     "cell_type": "markdown",
     "metadata": {},
     "source": [
      "Looks like the port opened successfully.  Now let's send a command for the controller to read.  The address of the device is 'A'."
     ]
    },
    {
     "cell_type": "markdown",
     "metadata": {},
     "source": [
      "All looks well.  Let's now read to the end (indicated by a carriage return)."
     ]
    },
    {
     "cell_type": "code",
     "collapsed": false,
     "input": [
      "from IPython.display import display, clear_output\n",
      "from time import sleep\n",
      "index = 0\n",
      "while index < 15:\n",
      "    ser.write(\"A\\r\")\n",
      "    output = \"\"\n",
      "    x = \"\"\n",
      "    while x != '\\r':\n",
      "        x = ser.read()\n",
      "        output += str(x)\n",
      "    #print output\n",
      "    data_str = output.split()\n",
      "    #print data_str\n",
      "    data = []\n",
      "    for i in data_str:\n",
      "        print i   \n",
      "        try:\n",
      "            data.append(float(i))\n",
      "        except:\n",
      "            pass\n",
      "    print index\n",
      "\n",
      "    #clear_output(wait=False)\n",
      "    sys.stdout.write(output),\n",
      "    #sys.stdout.write(''.join(data)\n",
      "    sleep(1),\n",
      "    sys.stdout.write('\\r')\n",
      "    sys.stdout.flush()\n",
      "    index += 1\n",
      "    \n",
      "print \"Complete!\""
     ],
     "language": "python",
     "metadata": {},
     "outputs": [
      {
       "output_type": "stream",
       "stream": "stdout",
       "text": [
        "A +012.21 +031.67 +0000.2 +0000.1 014.40     Air\r",
        "\r"
       ]
      },
      {
       "output_type": "stream",
       "stream": "stdout",
       "text": [
        "Complete!\n"
       ]
      }
     ],
     "prompt_number": 14
    },
    {
     "cell_type": "code",
     "collapsed": false,
     "input": [],
     "language": "python",
     "metadata": {},
     "outputs": []
    },
    {
     "cell_type": "markdown",
     "metadata": {},
     "source": [
      "Determine if the port is open or not."
     ]
    },
    {
     "cell_type": "code",
     "collapsed": false,
     "input": [
      "op = ser.isOpen()\n",
      "print op\n"
     ],
     "language": "python",
     "metadata": {},
     "outputs": [
      {
       "output_type": "stream",
       "stream": "stdout",
       "text": [
        "True\n"
       ]
      }
     ],
     "prompt_number": 42
    },
    {
     "cell_type": "code",
     "collapsed": false,
     "input": [
      "print not ser.isOpen()"
     ],
     "language": "python",
     "metadata": {},
     "outputs": [
      {
       "output_type": "stream",
       "stream": "stdout",
       "text": [
        "False\n"
       ]
      }
     ],
     "prompt_number": 48
    },
    {
     "cell_type": "code",
     "collapsed": false,
     "input": [
      "import sys\n",
      "from time import sleep"
     ],
     "language": "python",
     "metadata": {},
     "outputs": [],
     "prompt_number": 10
    },
    {
     "cell_type": "code",
     "collapsed": false,
     "input": [],
     "language": "python",
     "metadata": {},
     "outputs": []
    },
    {
     "cell_type": "code",
     "collapsed": false,
     "input": [],
     "language": "python",
     "metadata": {},
     "outputs": []
    },
    {
     "cell_type": "code",
     "collapsed": false,
     "input": [],
     "language": "python",
     "metadata": {},
     "outputs": []
    },
    {
     "cell_type": "heading",
     "level": 2,
     "metadata": {},
     "source": [
      "Parsing the Data and Writing it to File"
     ]
    },
    {
     "cell_type": "markdown",
     "metadata": {},
     "source": [
      "Define a class for the Alicat Object.  This will encapsulate the functionality we are interested in."
     ]
    },
    {
     "cell_type": "code",
     "collapsed": false,
     "input": [
      "class Alicat:\n",
      "    \n",
      "    ''' Class global that will define how many devices are present.\n",
      "        Alicats are multidrop, so the iterator will tell us to close \n",
      "        the port once the last Alicat is off line.\n",
      "    '''\n",
      "    i = 0\n",
      "    def __init(self, port, Address)__:\n",
      "        self.ser = serial.Serial()\n",
      "        self.ser.baudrate = 19200\n",
      "        # Timeout is 100 ms\n",
      "        self.ser.timeout = 0.1\n",
      "        self.ser.port = port\n",
      "        self.add = Address\n",
      "        # Increment the instance iterator\n",
      "        Alicat.i +=1\n",
      "    \n",
      "    # Open up the line if the line is not already open\n",
      "    def openPort():\n",
      "        if not self.ser.isOpen():\n",
      "            self.ser.open()\n",
      "    \n",
      "    # Decrement the number of Alicats on the line.\n",
      "    # Close the line if the last Alicat is off.\n",
      "    def closePort():\n",
      "        Alicat.i -=1\n",
      "        \n",
      "        if Alicat.i <= 0 && self.ser.isOpen():\n",
      "            self.ser.close()\n",
      "            \n",
      "    def getData():\n",
      "        \n",
      "        self.ser.write(self.add + \"\\r\")\n",
      "        x = \"\"\n",
      "        s = \"\"\n",
      "        # Read until you reach the carriage return\n",
      "        while x != \"\\r\":\n",
      "            x = self.ser.read()\n",
      "            s += str(x)\n",
      "        \n",
      "        # s contains the string of data\n",
      "        \n",
      "        \n",
      "        \n",
      "        \n",
      "        "
     ],
     "language": "python",
     "metadata": {},
     "outputs": []
    }
   ],
   "metadata": {}
  }
 ]
}